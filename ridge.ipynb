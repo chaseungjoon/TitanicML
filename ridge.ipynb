{
 "cells": [
  {
   "cell_type": "code",
   "id": "initial_id",
   "metadata": {
    "collapsed": true,
    "ExecuteTime": {
     "end_time": "2025-05-19T10:54:37.686323Z",
     "start_time": "2025-05-19T10:54:37.264468Z"
    }
   },
   "source": "import pandas as pd",
   "outputs": [],
   "execution_count": 1
  },
  {
   "metadata": {
    "ExecuteTime": {
     "end_time": "2025-05-19T10:56:35.820914Z",
     "start_time": "2025-05-19T10:56:35.800091Z"
    }
   },
   "cell_type": "code",
   "source": [
    "train = pd.read_csv('titanic/train.csv')\n",
    "test = pd.read_csv('titanic/test.csv')\n",
    "\n",
    "print(train.head())\n",
    "print(train.info())\n",
    "print(train.isnull().sum())"
   ],
   "id": "e0efd77f7c94157",
   "outputs": [
    {
     "name": "stdout",
     "output_type": "stream",
     "text": [
      "   PassengerId  Survived  Pclass  \\\n",
      "0            1         0       3   \n",
      "1            2         1       1   \n",
      "2            3         1       3   \n",
      "3            4         1       1   \n",
      "4            5         0       3   \n",
      "\n",
      "                                                Name     Sex   Age  SibSp  \\\n",
      "0                            Braund, Mr. Owen Harris    male  22.0      1   \n",
      "1  Cumings, Mrs. John Bradley (Florence Briggs Th...  female  38.0      1   \n",
      "2                             Heikkinen, Miss. Laina  female  26.0      0   \n",
      "3       Futrelle, Mrs. Jacques Heath (Lily May Peel)  female  35.0      1   \n",
      "4                           Allen, Mr. William Henry    male  35.0      0   \n",
      "\n",
      "   Parch            Ticket     Fare Cabin Embarked  \n",
      "0      0         A/5 21171   7.2500   NaN        S  \n",
      "1      0          PC 17599  71.2833   C85        C  \n",
      "2      0  STON/O2. 3101282   7.9250   NaN        S  \n",
      "3      0            113803  53.1000  C123        S  \n",
      "4      0            373450   8.0500   NaN        S  \n",
      "<class 'pandas.core.frame.DataFrame'>\n",
      "RangeIndex: 891 entries, 0 to 890\n",
      "Data columns (total 12 columns):\n",
      " #   Column       Non-Null Count  Dtype  \n",
      "---  ------       --------------  -----  \n",
      " 0   PassengerId  891 non-null    int64  \n",
      " 1   Survived     891 non-null    int64  \n",
      " 2   Pclass       891 non-null    int64  \n",
      " 3   Name         891 non-null    object \n",
      " 4   Sex          891 non-null    object \n",
      " 5   Age          714 non-null    float64\n",
      " 6   SibSp        891 non-null    int64  \n",
      " 7   Parch        891 non-null    int64  \n",
      " 8   Ticket       891 non-null    object \n",
      " 9   Fare         891 non-null    float64\n",
      " 10  Cabin        204 non-null    object \n",
      " 11  Embarked     889 non-null    object \n",
      "dtypes: float64(2), int64(5), object(5)\n",
      "memory usage: 83.7+ KB\n",
      "None\n",
      "PassengerId      0\n",
      "Survived         0\n",
      "Pclass           0\n",
      "Name             0\n",
      "Sex              0\n",
      "Age            177\n",
      "SibSp            0\n",
      "Parch            0\n",
      "Ticket           0\n",
      "Fare             0\n",
      "Cabin          687\n",
      "Embarked         2\n",
      "dtype: int64\n"
     ]
    }
   ],
   "execution_count": 3
  },
  {
   "metadata": {
    "ExecuteTime": {
     "end_time": "2025-05-19T11:15:09.183577Z",
     "start_time": "2025-05-19T11:15:08.503181Z"
    }
   },
   "cell_type": "code",
   "source": [
    "from sklearn.pipeline import Pipeline\n",
    "from sklearn.preprocessing import PolynomialFeatures, StandardScaler\n",
    "from sklearn.linear_model import Ridge"
   ],
   "id": "52fdbffce26ace2e",
   "outputs": [],
   "execution_count": 4
  },
  {
   "metadata": {
    "ExecuteTime": {
     "end_time": "2025-05-19T11:17:43.191887Z",
     "start_time": "2025-05-19T11:17:43.187062Z"
    }
   },
   "cell_type": "code",
   "source": [
    "#convert sex to binary\n",
    "train[\"Sex\"] = train[\"Sex\"].map({\"male\": 0, \"female\": 1})\n",
    "test[\"Sex\"] = test[\"Sex\"].map({\"male\": 0, \"female\": 1})"
   ],
   "id": "da7266b77c626e58",
   "outputs": [],
   "execution_count": 7
  },
  {
   "metadata": {
    "ExecuteTime": {
     "end_time": "2025-05-19T11:18:14.604443Z",
     "start_time": "2025-05-19T11:18:14.600573Z"
    }
   },
   "cell_type": "code",
   "source": [
    "#convert hasCabin to binary\n",
    "train[\"HasCabin\"] = train[\"Cabin\"].notnull().astype(int)\n",
    "test[\"HasCabin\"] = test[\"Cabin\"].notnull().astype(int)"
   ],
   "id": "5615b1d2d2347bb2",
   "outputs": [],
   "execution_count": 8
  },
  {
   "metadata": {
    "ExecuteTime": {
     "end_time": "2025-05-19T11:23:29.180829Z",
     "start_time": "2025-05-19T11:23:29.177733Z"
    }
   },
   "cell_type": "code",
   "source": [
    "#Choose features\n",
    "features = [\"Pclass\", \"Sex\", \"Age\", \"Fare\", \"HasCabin\"]"
   ],
   "id": "e0a37181cd10f67f",
   "outputs": [],
   "execution_count": 14
  },
  {
   "metadata": {
    "ExecuteTime": {
     "end_time": "2025-05-19T11:24:47.756132Z",
     "start_time": "2025-05-19T11:24:47.751953Z"
    }
   },
   "cell_type": "code",
   "source": [
    "test[\"Age\"].fillna(train[\"Age\"].median(), inplace=True)\n",
    "test[\"Fare\"].fillna(train[\"Fare\"].median(), inplace=True)\n",
    "train[\"Age\"].fillna(train[\"Age\"].median(), inplace=True)\n",
    "train[\"Fare\"].fillna(train[\"Fare\"].median(), inplace=True)"
   ],
   "id": "c0d99367771a981e",
   "outputs": [],
   "execution_count": 16
  },
  {
   "metadata": {
    "ExecuteTime": {
     "end_time": "2025-05-19T11:24:56.187790Z",
     "start_time": "2025-05-19T11:24:56.176727Z"
    }
   },
   "cell_type": "code",
   "source": [
    "ridge_pipeline = Pipeline([\n",
    "    (\"poly\", PolynomialFeatures(degree=2, include_bias=False)),\n",
    "    (\"scaler\", StandardScaler()),\n",
    "    (\"ridge\", Ridge(alpha=1.0))\n",
    "])\n",
    "\n",
    "# Fit the model\n",
    "ridge_pipeline.fit(train[features], train[\"Survived\"])\n",
    "\n",
    "# Predict on a test set\n",
    "predictions = ridge_pipeline.predict(test[features])"
   ],
   "id": "d3ca97c6ef185b8",
   "outputs": [],
   "execution_count": 17
  },
  {
   "metadata": {
    "ExecuteTime": {
     "end_time": "2025-05-19T11:25:13.781227Z",
     "start_time": "2025-05-19T11:25:13.775630Z"
    }
   },
   "cell_type": "code",
   "source": [
    "predictions_rounded = predictions.round().astype(int)\n",
    "\n",
    "# Create submission DataFrame\n",
    "submission = pd.DataFrame({\n",
    "    \"PassengerId\": test[\"PassengerId\"],\n",
    "    \"Survived\": predictions_rounded\n",
    "})\n",
    "\n",
    "# Save to CSV\n",
    "submission.to_csv(\"ridge_submission.csv\", index=False)"
   ],
   "id": "42daceeca7d4ba70",
   "outputs": [],
   "execution_count": 18
  },
  {
   "metadata": {
    "ExecuteTime": {
     "end_time": "2025-05-19T11:40:01.085258Z",
     "start_time": "2025-05-19T11:40:01.082725Z"
    }
   },
   "cell_type": "code",
   "source": "0.76794",
   "id": "f7c794e078e4764b",
   "outputs": [
    {
     "data": {
      "text/plain": [
       "0.76794"
      ]
     },
     "execution_count": 29,
     "metadata": {},
     "output_type": "execute_result"
    }
   ],
   "execution_count": 29
  },
  {
   "metadata": {
    "ExecuteTime": {
     "end_time": "2025-05-19T11:29:32.859020Z",
     "start_time": "2025-05-19T11:29:32.847924Z"
    }
   },
   "cell_type": "code",
   "source": [
    "ridge_pipeline = Pipeline([\n",
    "    (\"poly\", PolynomialFeatures(degree=2, include_bias=False)),\n",
    "    (\"scaler\", StandardScaler()),\n",
    "    (\"ridge\", Ridge(alpha=10.0))\n",
    "])\n",
    "\n",
    "# Fit the model\n",
    "ridge_pipeline.fit(train[features], train[\"Survived\"])\n",
    "\n",
    "# Predict on a test set\n",
    "predictions = ridge_pipeline.predict(test[features])"
   ],
   "id": "3200be3714c23f6a",
   "outputs": [],
   "execution_count": 20
  },
  {
   "metadata": {
    "ExecuteTime": {
     "end_time": "2025-05-19T11:29:50.230233Z",
     "start_time": "2025-05-19T11:29:50.225812Z"
    }
   },
   "cell_type": "code",
   "source": [
    "predictions_rounded = predictions.round().astype(int)\n",
    "\n",
    "# Create submission DataFrame\n",
    "submission = pd.DataFrame({\n",
    "    \"PassengerId\": test[\"PassengerId\"],\n",
    "    \"Survived\": predictions_rounded\n",
    "})\n",
    "\n",
    "# Save to CSV\n",
    "submission.to_csv(\"ridge_submission2.csv\", index=False)"
   ],
   "id": "cf84d104608a29df",
   "outputs": [],
   "execution_count": 21
  },
  {
   "metadata": {
    "ExecuteTime": {
     "end_time": "2025-05-19T11:39:57.770687Z",
     "start_time": "2025-05-19T11:39:57.768318Z"
    }
   },
   "cell_type": "code",
   "source": "0.77511",
   "id": "415dbf88bdffc1a1",
   "outputs": [
    {
     "data": {
      "text/plain": [
       "0.77511"
      ]
     },
     "execution_count": 28,
     "metadata": {},
     "output_type": "execute_result"
    }
   ],
   "execution_count": 28
  },
  {
   "metadata": {
    "ExecuteTime": {
     "end_time": "2025-05-19T11:36:18.298313Z",
     "start_time": "2025-05-19T11:36:18.289387Z"
    }
   },
   "cell_type": "code",
   "source": [
    "ridge_pipeline = Pipeline([\n",
    "    (\"poly\", PolynomialFeatures(degree=2, include_bias=False)),\n",
    "    (\"scaler\", StandardScaler()),\n",
    "    (\"ridge\", Ridge(alpha=50.0))\n",
    "])\n",
    "\n",
    "# Fit the model\n",
    "ridge_pipeline.fit(train[features], train[\"Survived\"])\n",
    "\n",
    "# Predict on a test set\n",
    "predictions = ridge_pipeline.predict(test[features])"
   ],
   "id": "3b7485a5884b55a3",
   "outputs": [],
   "execution_count": 23
  },
  {
   "metadata": {
    "ExecuteTime": {
     "end_time": "2025-05-19T11:36:26.595537Z",
     "start_time": "2025-05-19T11:36:26.590646Z"
    }
   },
   "cell_type": "code",
   "source": [
    "predictions_rounded = predictions.round().astype(int)\n",
    "\n",
    "# Create submission DataFrame\n",
    "submission = pd.DataFrame({\n",
    "    \"PassengerId\": test[\"PassengerId\"],\n",
    "    \"Survived\": predictions_rounded\n",
    "})\n",
    "\n",
    "# Save to CSV\n",
    "submission.to_csv(\"ridge_submission3.csv\", index=False)"
   ],
   "id": "d47a229369021eb8",
   "outputs": [],
   "execution_count": 24
  },
  {
   "metadata": {
    "ExecuteTime": {
     "end_time": "2025-05-19T11:39:54.946234Z",
     "start_time": "2025-05-19T11:39:54.943711Z"
    }
   },
   "cell_type": "code",
   "source": "0.77272",
   "id": "4335b2dc4f84627e",
   "outputs": [
    {
     "data": {
      "text/plain": [
       "0.77272"
      ]
     },
     "execution_count": 27,
     "metadata": {},
     "output_type": "execute_result"
    }
   ],
   "execution_count": 27
  },
  {
   "metadata": {},
   "cell_type": "code",
   "outputs": [],
   "execution_count": null,
   "source": "",
   "id": "34df35b80db4e806"
  }
 ],
 "metadata": {
  "kernelspec": {
   "display_name": "Python 3",
   "language": "python",
   "name": "python3"
  },
  "language_info": {
   "codemirror_mode": {
    "name": "ipython",
    "version": 2
   },
   "file_extension": ".py",
   "mimetype": "text/x-python",
   "name": "python",
   "nbconvert_exporter": "python",
   "pygments_lexer": "ipython2",
   "version": "2.7.6"
  }
 },
 "nbformat": 4,
 "nbformat_minor": 5
}
