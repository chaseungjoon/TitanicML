{
 "cells": [
  {
   "cell_type": "code",
   "id": "initial_id",
   "metadata": {
    "collapsed": true,
    "ExecuteTime": {
     "end_time": "2025-05-19T11:44:02.981959Z",
     "start_time": "2025-05-19T11:44:02.640388Z"
    }
   },
   "source": [
    "import pandas as pd\n",
    "\n",
    "train = pd.read_csv('titanic/train.csv')\n",
    "test = pd.read_csv('titanic/test.csv')\n",
    "\n",
    "print(train.head())\n",
    "print(train.info())\n",
    "print(train.isnull().sum())\n",
    "\n",
    "#convert sex to binary\n",
    "train[\"Sex\"] = train[\"Sex\"].map({\"male\": 0, \"female\": 1})\n",
    "test[\"Sex\"] = test[\"Sex\"].map({\"male\": 0, \"female\": 1})\n",
    "\n",
    "#convert hasCabin to binary\n",
    "train[\"HasCabin\"] = train[\"Cabin\"].notnull().astype(int)\n",
    "test[\"HasCabin\"] = test[\"Cabin\"].notnull().astype(int)\n",
    "\n",
    "test[\"Age\"].fillna(train[\"Age\"].median(), inplace=True)\n",
    "test[\"Fare\"].fillna(train[\"Fare\"].median(), inplace=True)\n",
    "train[\"Age\"].fillna(train[\"Age\"].median(), inplace=True)\n",
    "train[\"Fare\"].fillna(train[\"Fare\"].median(), inplace=True)"
   ],
   "outputs": [
    {
     "name": "stdout",
     "output_type": "stream",
     "text": [
      "   PassengerId  Survived  Pclass  \\\n",
      "0            1         0       3   \n",
      "1            2         1       1   \n",
      "2            3         1       3   \n",
      "3            4         1       1   \n",
      "4            5         0       3   \n",
      "\n",
      "                                                Name     Sex   Age  SibSp  \\\n",
      "0                            Braund, Mr. Owen Harris    male  22.0      1   \n",
      "1  Cumings, Mrs. John Bradley (Florence Briggs Th...  female  38.0      1   \n",
      "2                             Heikkinen, Miss. Laina  female  26.0      0   \n",
      "3       Futrelle, Mrs. Jacques Heath (Lily May Peel)  female  35.0      1   \n",
      "4                           Allen, Mr. William Henry    male  35.0      0   \n",
      "\n",
      "   Parch            Ticket     Fare Cabin Embarked  \n",
      "0      0         A/5 21171   7.2500   NaN        S  \n",
      "1      0          PC 17599  71.2833   C85        C  \n",
      "2      0  STON/O2. 3101282   7.9250   NaN        S  \n",
      "3      0            113803  53.1000  C123        S  \n",
      "4      0            373450   8.0500   NaN        S  \n",
      "<class 'pandas.core.frame.DataFrame'>\n",
      "RangeIndex: 891 entries, 0 to 890\n",
      "Data columns (total 12 columns):\n",
      " #   Column       Non-Null Count  Dtype  \n",
      "---  ------       --------------  -----  \n",
      " 0   PassengerId  891 non-null    int64  \n",
      " 1   Survived     891 non-null    int64  \n",
      " 2   Pclass       891 non-null    int64  \n",
      " 3   Name         891 non-null    object \n",
      " 4   Sex          891 non-null    object \n",
      " 5   Age          714 non-null    float64\n",
      " 6   SibSp        891 non-null    int64  \n",
      " 7   Parch        891 non-null    int64  \n",
      " 8   Ticket       891 non-null    object \n",
      " 9   Fare         891 non-null    float64\n",
      " 10  Cabin        204 non-null    object \n",
      " 11  Embarked     889 non-null    object \n",
      "dtypes: float64(2), int64(5), object(5)\n",
      "memory usage: 83.7+ KB\n",
      "None\n",
      "PassengerId      0\n",
      "Survived         0\n",
      "Pclass           0\n",
      "Name             0\n",
      "Sex              0\n",
      "Age            177\n",
      "SibSp            0\n",
      "Parch            0\n",
      "Ticket           0\n",
      "Fare             0\n",
      "Cabin          687\n",
      "Embarked         2\n",
      "dtype: int64\n"
     ]
    }
   ],
   "execution_count": 1
  },
  {
   "metadata": {
    "ExecuteTime": {
     "end_time": "2025-05-19T11:44:14.404997Z",
     "start_time": "2025-05-19T11:44:13.815913Z"
    }
   },
   "cell_type": "code",
   "source": [
    "from sklearn.pipeline import Pipeline\n",
    "from sklearn.preprocessing import PolynomialFeatures, StandardScaler\n",
    "from sklearn.linear_model import LogisticRegression"
   ],
   "id": "709e4175dc097224",
   "outputs": [],
   "execution_count": 2
  },
  {
   "metadata": {
    "ExecuteTime": {
     "end_time": "2025-05-19T11:44:49.016380Z",
     "start_time": "2025-05-19T11:44:48.962289Z"
    }
   },
   "cell_type": "code",
   "source": [
    "features = [\"Pclass\", \"Sex\", \"Age\", \"Fare\", \"HasCabin\"]\n",
    "\n",
    "logistic_pipeline = Pipeline([\n",
    "    (\"poly\", PolynomialFeatures(degree=2, include_bias=False)),\n",
    "    (\"scaler\", StandardScaler()),\n",
    "    (\"logreg\", LogisticRegression(max_iter=1000))\n",
    "])\n",
    "\n",
    "logistic_pipeline.fit(train[features], train[\"Survived\"])\n",
    "predictions = logistic_pipeline.predict(test[features])"
   ],
   "id": "dbd685f1eccfb44b",
   "outputs": [],
   "execution_count": 3
  },
  {
   "metadata": {
    "ExecuteTime": {
     "end_time": "2025-05-19T11:45:06.850977Z",
     "start_time": "2025-05-19T11:45:06.844869Z"
    }
   },
   "cell_type": "code",
   "source": [
    "submission = pd.DataFrame({\n",
    "    \"PassengerId\": test[\"PassengerId\"],\n",
    "    \"Survived\": predictions\n",
    "})\n",
    "submission.to_csv(\"logreg_submission.csv\", index=False)"
   ],
   "id": "99f402cff0c0bad0",
   "outputs": [],
   "execution_count": 4
  },
  {
   "metadata": {
    "ExecuteTime": {
     "end_time": "2025-05-19T11:45:35.390927Z",
     "start_time": "2025-05-19T11:45:35.385376Z"
    }
   },
   "cell_type": "code",
   "source": "0.77033",
   "id": "311024abb12195d5",
   "outputs": [
    {
     "data": {
      "text/plain": [
       "0.77033"
      ]
     },
     "execution_count": 5,
     "metadata": {},
     "output_type": "execute_result"
    }
   ],
   "execution_count": 5
  },
  {
   "metadata": {
    "ExecuteTime": {
     "end_time": "2025-05-19T11:47:45.256063Z",
     "start_time": "2025-05-19T11:47:45.232402Z"
    }
   },
   "cell_type": "code",
   "source": [
    "logistic_pipeline = Pipeline([\n",
    "    (\"poly\", PolynomialFeatures(degree=2, include_bias=False)),\n",
    "    (\"scaler\", StandardScaler()),\n",
    "    (\"logreg\", LogisticRegression(C=0.1, max_iter=1000))\n",
    "])\n",
    "\n",
    "logistic_pipeline.fit(train[features], train[\"Survived\"])\n",
    "predictions = logistic_pipeline.predict(test[features])\n",
    "\n",
    "submission = pd.DataFrame({\n",
    "    \"PassengerId\": test[\"PassengerId\"],\n",
    "    \"Survived\": predictions\n",
    "})\n",
    "submission.to_csv(\"logreg_submission2.csv\", index=False)"
   ],
   "id": "43e9d7fb1c2bf73b",
   "outputs": [],
   "execution_count": 6
  },
  {
   "metadata": {
    "ExecuteTime": {
     "end_time": "2025-05-19T11:48:05.405027Z",
     "start_time": "2025-05-19T11:48:05.402347Z"
    }
   },
   "cell_type": "code",
   "source": "0.75598",
   "id": "96949713eb7b4524",
   "outputs": [
    {
     "data": {
      "text/plain": [
       "0.75598"
      ]
     },
     "execution_count": 7,
     "metadata": {},
     "output_type": "execute_result"
    }
   ],
   "execution_count": 7
  },
  {
   "metadata": {
    "ExecuteTime": {
     "end_time": "2025-05-19T11:54:05.765449Z",
     "start_time": "2025-05-19T11:54:05.732711Z"
    }
   },
   "cell_type": "code",
   "source": [
    "logistic_pipeline = Pipeline([\n",
    "    (\"poly\", PolynomialFeatures(degree=2, include_bias=False)),\n",
    "    (\"scaler\", StandardScaler()),\n",
    "    (\"logreg\", LogisticRegression(C=5, max_iter=1000))\n",
    "])\n",
    "\n",
    "logistic_pipeline.fit(train[features], train[\"Survived\"])\n",
    "predictions = logistic_pipeline.predict(test[features])\n",
    "\n",
    "submission = pd.DataFrame({\n",
    "    \"PassengerId\": test[\"PassengerId\"],\n",
    "    \"Survived\": predictions\n",
    "})\n",
    "submission.to_csv(\"logreg_submission3.csv\", index=False)"
   ],
   "id": "caf2d66ed820fcf7",
   "outputs": [],
   "execution_count": 9
  },
  {
   "metadata": {
    "ExecuteTime": {
     "end_time": "2025-05-19T11:54:30.937428Z",
     "start_time": "2025-05-19T11:54:30.934512Z"
    }
   },
   "cell_type": "code",
   "source": "0.77272",
   "id": "f4ee280f51bfa168",
   "outputs": [
    {
     "data": {
      "text/plain": [
       "0.77272"
      ]
     },
     "execution_count": 10,
     "metadata": {},
     "output_type": "execute_result"
    }
   ],
   "execution_count": 10
  },
  {
   "metadata": {},
   "cell_type": "code",
   "outputs": [],
   "execution_count": null,
   "source": "",
   "id": "4461d5d87d67b907"
  }
 ],
 "metadata": {
  "kernelspec": {
   "display_name": "Python 3",
   "language": "python",
   "name": "python3"
  },
  "language_info": {
   "codemirror_mode": {
    "name": "ipython",
    "version": 2
   },
   "file_extension": ".py",
   "mimetype": "text/x-python",
   "name": "python",
   "nbconvert_exporter": "python",
   "pygments_lexer": "ipython2",
   "version": "2.7.6"
  }
 },
 "nbformat": 4,
 "nbformat_minor": 5
}
